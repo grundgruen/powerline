{
 "cells": [
  {
   "cell_type": "markdown",
   "metadata": {},
   "source": [
    "# Introduction: 1-day VaR\n",
    "\n",
    "The Idea behind the VaR is to calculate the worst price movement an asset can observe in most cases.\n",
    "\n",
    "Suppose we have $P$ assets with a certain current Value. We model the movement of this asset in the \"next future time step\" (the coming day) as random variable\n",
    "$$ X \\sim \\mathcal N (\\mu, \\sigma^2). $$\n",
    "Hence in $c = 95 \\%$ of the cases we have using the cdf $F_{\\mathcal N(\\mu, \\sigma^2)}$ of $X$\n",
    "$$ X \\geq F^{-1}_{\\mathcal N(\\mu, \\sigma^2)} (1-c) = \\mu + \\sigma \\cdot \\Phi^{-1}(1-c), $$\n",
    "where $\\Phi$ is the cdf (cumulation distribution function) of the standard normal distribution.\n",
    "\n",
    "This results in the VaR:\n",
    "$$ \\mathrm{VaR}^{(1)} = - P * F^{-1}_{\\mathcal N(\\mu, \\sigma^2)} (1-c). $$\n",
    "\n",
    "Note, that in general the value $F^{-1}_{\\mathcal N(\\mu, \\sigma^2)} (1-c)$ will be negative so that our $\\mathrm{VaR}^{(1)}$ formula will give a positive result.\n",
    "\n",
    "In `Python` one can implement this as follows"
   ]
  },
  {
   "cell_type": "code",
   "execution_count": 1,
   "metadata": {
    "collapsed": false
   },
   "outputs": [
    {
     "name": "stdout",
     "output_type": "stream",
     "text": [
      "7.02596414275\n"
     ]
    }
   ],
   "source": [
    "from scipy.stats import norm\n",
    "\n",
    "P = 8.4546\n",
    "mu = 0.6\n",
    "sigma = 0.87\n",
    "c = 0.95\n",
    "\n",
    "alpha = norm.ppf(1-c, mu, sigma)\n",
    "\n",
    "VaR = - P * alpha\n",
    "\n",
    "print(VaR)"
   ]
  },
  {
   "cell_type": "markdown",
   "metadata": {},
   "source": [
    "# Generalisation: $n$-day VaR\n",
    "\n",
    "Now we are interested in the $n$-day VaR. For this we model the price movement of our assets in the following $n$ days as independent realisations of the above distribution:\n",
    "$$ X_1, X_2, \\ldots, X_n \\overset{\\text{i.i.d.}}{\\sim} \\mathcal N(\\mu,\\sigma^2). $$\n",
    "It is well known, that\n",
    "$$ \\sum_{i=1}^n X_i \\sim \\mathcal N(n\\mu, n\\sigma^2), $$\n",
    "and hence we have \n",
    "$$ \\sum_{i=1}^n X_i \\geq F^{-1}_{\\mathcal N(n\\mu, n\\sigma^2)} (1-c) = n\\mu + \\sqrt{n} \\sigma \\cdot \\Phi^{-1}(1-c). $$\n",
    "This results in the following formula for the $n$-day VaR:\n",
    "$$ \\mathrm{VaR}^{(n)} = - P * F^{-1}_{\\mathcal N(n\\mu, n\\sigma^2)} (1-c) $$\n",
    "and the following `Python` code:"
   ]
  },
  {
   "cell_type": "code",
   "execution_count": 2,
   "metadata": {
    "collapsed": false
   },
   "outputs": [
    {
     "name": "stdout",
     "output_type": "stream",
     "text": [
      "1.6897696242\n"
     ]
    }
   ],
   "source": [
    "from scipy.stats import norm\n",
    "from math import sqrt\n",
    "\n",
    "P = 8.4546\n",
    "mu = 0.6\n",
    "sigma = 0.87\n",
    "n = 5\n",
    "c = 0.95\n",
    "\n",
    "alpha = norm.ppf(1-c, n*mu, sqrt(n)*sigma)\n",
    "\n",
    "VaR = - P * alpha\n",
    "\n",
    "print(VaR)"
   ]
  },
  {
   "cell_type": "code",
   "execution_count": null,
   "metadata": {
    "collapsed": true
   },
   "outputs": [],
   "source": []
  }
 ],
 "metadata": {
  "kernelspec": {
   "display_name": "Python 3",
   "language": "python",
   "name": "python3"
  },
  "language_info": {
   "codemirror_mode": {
    "name": "ipython",
    "version": 3
   },
   "file_extension": ".py",
   "mimetype": "text/x-python",
   "name": "python",
   "nbconvert_exporter": "python",
   "pygments_lexer": "ipython3",
   "version": "3.4.3"
  }
 },
 "nbformat": 4,
 "nbformat_minor": 0
}
